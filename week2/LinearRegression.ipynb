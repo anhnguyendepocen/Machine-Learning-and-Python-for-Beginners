{
 "cells": [
  {
   "cell_type": "markdown",
   "metadata": {},
   "source": [
    "# Programming Exercise 1: Linear Regression\n",
    "\n",
    "This notebook is based on the [Coursera Machine Learning](https://www.coursera.org/learn/machine-learning) course by Andrew Ng. We believe it is the best course for people who are keen to make their first steps in Machine Learning.\n",
    "\n",
    "The course is taught in Octave / MATLAB, but Python is much more broadly used in the industry and academia. The Python code in this tutorial is based on some work by [David Kaleko](https://github.com/kaleko). \n",
    "\n",
    "Explanations of the model, and any mistakes herein, are of our own doing. If you're unsure about anything, feel free to ask us during the session!"
   ]
  },
  {
   "cell_type": "code",
   "execution_count": 1,
   "metadata": {},
   "outputs": [],
   "source": [
    "# Start by importing the libraries with the necessary functionality for ML\n",
    "# in Python and for vanilla ML, that almost always includes NumPy\n",
    "\n",
    "# the following line allows us to output plots in the notebook\n",
    "%matplotlib inline\n",
    "import numpy as np\n",
    "import matplotlib.pyplot as plt # plotting library"
   ]
  },
  {
   "cell_type": "markdown",
   "metadata": {},
   "source": [
    "The task of supervised learning is to train a model to predict a label $y$ given an input $x = (x_1, x_2, \\dotsc, x_n)$, where $n$ is the number of input features. For example, $y$ as the target variable can be the price of a house, and $x$ is a vector consisting of $n$ features of the house, such as: the number of bedrooms, proximity to public transport, age of house, etc... Our task then is to build a model that can take these input features of the house and predict the price that the house will be sold at. \n",
    "\n",
    "To train a supervised machine-learning algorithm, you would need a bunch of labelled examples $\\{(x^{(1)}, y^{(1)}), (x^{(2)}, y^{(2)}), \\dotsc, (x^{(m)}, y^{(m)})\\}$ which we call the **training data**, where $m$ is the number of datapoints. Using the above example, we would need a dataset containing the sold price of $m$ houses, along with the $n$ features for each of those houses.\n",
    "\n",
    "A supervised machine learning model typically assumes that there exists a mapping from inputs to outputs, which we can represent as\n",
    "\n",
    "$$ y = h_{\\theta}(x) + \\epsilon $$\n",
    "\n",
    "where $h_{\\theta}(x)$ is called a hypothesis and $\\epsilon$ (pronounced $epsilon$) is a noise term that represents any error that cannot be accounted for by the hypothesis $h$. $\\theta$ (pronounced $theta$) are the model parameters which we will want to tweak to make the predictions as accurate as possible (you will see what we mean in a bit).\n",
    "\n",
    "Linear regression is one of the simplest ML models. It assumes that the mapping from $x$ to $y$ is linear in parameters (i.e. it is composed of the sum of model parameters):\n",
    "\n",
    "$$ y = \\theta_0 + \\theta_1 x_1 + \\cdots + \\theta_n x_n + \\epsilon$$\n",
    "\n",
    "where $\\theta_1 x_1$ is $\\theta_1$ times $x_1$, $x = (x_1, x_2, \\dotsc, x_n)$ are the input variables for one data sample and $\\theta = (\\theta_0, \\theta_1, \\theta_2, \\dotsc, \\theta_n)$ are the model parameters to be learned.\n",
    "\n",
    "Intuitively, the parameter $\\theta_n$ in $\\theta_n x_n$ denotes the slope or how much $y$ is expected to change with each unit change in $x_n$. $\\theta$ can be either positive or negative, e.g. house price is expected to increase by $\\theta_{bed}$ for every extra bedroom, or it is expected to decreased by $\\theta_{transport}$ for every additional meter from a public transport link.\n",
    "\n",
    "Note that we have a $\\theta_n$ for each $x_n$ but we have one more additional term, $\\theta_0$, which we call the bias. This can be interpreted as the *intercept* term, or what $y$ is expected to be in absence of any additional knowledge about $x_n$.\n",
    "\n",
    "It is important to note that linearity is in parameters $\\theta$, *not* the variables $x$. This means that a linear regression permits polynomials or interactions of original variables, for example:\n",
    "\n",
    "$$ y = \\theta_0 + \\theta_1 x_1 + \\theta_2 x_1^2 + \\theta_3 x_2 + \\theta_4 x_1x_2 + \\epsilon$$\n",
    "\n",
    "In theory, this permits the model to learn non-linear relationships between $y$ and (non-transformed) $x$. However, these non-linear relationships and interaction effects are not known a-priori. In practice, we tend to use the simplest model with no higher-order terms.\n",
    "\n",
    "In general linear regression is not the most predictive model out of the box. Nonetheless, it is a very useful baseline in many contexts (and in industry) and benefits from the ease of interpretation and development."
   ]
  },
  {
   "cell_type": "markdown",
   "metadata": {},
   "source": [
    "## 1 Linear regression with one variable"
   ]
  },
  {
   "cell_type": "markdown",
   "metadata": {},
   "source": [
    "Let's start with a simple linear regression model in one variable. You will implement linear regression with one\n",
    "variable to predict profits for a food truck. \n",
    "\n",
    "Suppose you are the CEO of a restaurant franchise and are considering different cities for opening a new outlet.\n",
    "The chain already has trucks in various cities and you have a dataset containing the profits and population size for $m$ cities.\n",
    "The training data can be represented as $\\{(x^{(1)}, y^{(1)}), (x^{(2)}, y^{(2)}), \\dotsc, (x^{(m)}, y^{(m)})\\}$ where $x^{(i)}$ represents the population (in 10k increment) and $y^{(i)}$ represents profit (in \\$10k increment) of the $i$ th city.\n",
    "\n",
    "You would like to use this data to help you select which city to expand to next.\n",
    "\n",
    "The file *ex1data1.txt* contains the dataset for our linear regression problem. The first column is the population of a city and the second column is the profit of a food truck in that city. A negative value for profit indicates a\n",
    "loss.\n",
    "\n",
    "\n",
    "Consider output of the hypothesis $h_{\\theta}$\n",
    "\n",
    "$$ h_{\\theta}(x) = \\theta_0 + \\theta_1 x. $$\n",
    "\n",
    "\n",
    "Let's try to interpret this equation. It assumes that the relationship between $y$ and $x$ is linear -- meaning that if we increase $x$ by 1, $h_{\\theta}(x)$ will increase by $\\theta_1$ and if we increase $x$ by $47.1$, $h_{\\theta}(x)$ will increase $47.1 \\cdot \\theta_1$, or $47.1$ times $\\theta_1$. The term $\\theta_0$ allows to shift the linear dependency between $h_{\\theta}(x)$ and $x$ by a constant. When $x = 0$, $h_{\\theta}(x)$ predicts $y$ to be exactly equal to $\\theta_0$."
   ]
  },
  {
   "cell_type": "markdown",
   "metadata": {},
   "source": [
    "### 1.1 Loading the Data\n",
    "\n",
    "In machine learning, we usually represent the data $\\{(x^{(1)}, y^{(1)}), (x^{(2)}, y^{(2)}), \\dotsc, (x^{(m)}, y^{(m)})\\}$ as a matrix $X$ and a vector $y$ where\n",
    "\\begin{align}\n",
    "    X &=\n",
    "        \\begin{bmatrix}\n",
    "            x_1^{(1)} & x_2^{(1)} & \\cdots & x_n^{(1)} \\\\\n",
    "            x_1^{(2)} & x_2^{(2)} & \\cdots & x_n^{(2)} \\\\\n",
    "            \\vdots & \\vdots & \\ddots & \\vdots \\\\\n",
    "            x_1^{(m)} & x_2^{(m)} & \\cdots & x_n^{(m)} \\\\\n",
    "        \\end{bmatrix} &&\\text{and}\\\\\n",
    "    y &= \n",
    "        \\begin{bmatrix}\n",
    "            y^{(1)} \\\\\n",
    "            y^{(2)} \\\\\n",
    "            \\vdots \\\\\n",
    "            y^{(m)}\n",
    "        \\end{bmatrix}.\n",
    "\\end{align}\n",
    "\n",
    "In the one dimensional case the matrix $X$ is just\n",
    "\\begin{align}\n",
    "    X &=\n",
    "        \\begin{bmatrix}\n",
    "            x^{(1)} \\\\\n",
    "            x^{(2)} \\\\\n",
    "            \\vdots \\\\\n",
    "            x^{(m)}\n",
    "        \\end{bmatrix}.\n",
    "\\end{align}"
   ]
  },
  {
   "cell_type": "code",
   "execution_count": 5,
   "metadata": {},
   "outputs": [
    {
     "name": "stdout",
     "output_type": "stream",
     "text": [
      "[[17.592  ]\n",
      " [ 9.1302 ]\n",
      " [13.662  ]\n",
      " [11.854  ]\n",
      " [ 6.8233 ]\n",
      " [11.886  ]\n",
      " [ 4.3483 ]\n",
      " [12.     ]\n",
      " [ 6.5987 ]\n",
      " [ 3.8166 ]\n",
      " [ 3.2522 ]\n",
      " [15.505  ]\n",
      " [ 3.1551 ]\n",
      " [ 7.2258 ]\n",
      " [ 0.71618]\n",
      " [ 3.5129 ]\n",
      " [ 5.3048 ]\n",
      " [ 0.56077]\n",
      " [ 3.6518 ]\n",
      " [ 5.3893 ]\n",
      " [ 3.1386 ]\n",
      " [21.767  ]\n",
      " [ 4.263  ]\n",
      " [ 5.1875 ]\n",
      " [ 3.0825 ]\n",
      " [22.638  ]\n",
      " [13.501  ]\n",
      " [ 7.0467 ]\n",
      " [14.692  ]\n",
      " [24.147  ]\n",
      " [-1.22   ]\n",
      " [ 5.9966 ]\n",
      " [12.134  ]\n",
      " [ 1.8495 ]\n",
      " [ 6.5426 ]\n",
      " [ 4.5623 ]\n",
      " [ 4.1164 ]\n",
      " [ 3.3928 ]\n",
      " [10.117  ]\n",
      " [ 5.4974 ]\n",
      " [ 0.55657]\n",
      " [ 3.9115 ]\n",
      " [ 5.3854 ]\n",
      " [ 2.4406 ]\n",
      " [ 6.7318 ]\n",
      " [ 1.0463 ]\n",
      " [ 5.1337 ]\n",
      " [ 1.844  ]\n",
      " [ 8.0043 ]\n",
      " [ 1.0179 ]\n",
      " [ 6.7504 ]\n",
      " [ 1.8396 ]\n",
      " [ 4.2885 ]\n",
      " [ 4.9981 ]\n",
      " [ 1.4233 ]\n",
      " [-1.4211 ]\n",
      " [ 2.4756 ]\n",
      " [ 4.6042 ]\n",
      " [ 3.9624 ]\n",
      " [ 5.4141 ]\n",
      " [ 5.1694 ]\n",
      " [-0.74279]\n",
      " [17.929  ]\n",
      " [12.054  ]\n",
      " [17.054  ]\n",
      " [ 4.8852 ]\n",
      " [ 5.7442 ]\n",
      " [ 7.7754 ]\n",
      " [ 1.0173 ]\n",
      " [20.992  ]\n",
      " [ 6.6799 ]\n",
      " [ 4.0259 ]\n",
      " [ 1.2784 ]\n",
      " [ 3.3411 ]\n",
      " [-2.6807 ]\n",
      " [ 0.29678]\n",
      " [ 3.8845 ]\n",
      " [ 5.7014 ]\n",
      " [ 6.7526 ]\n",
      " [ 2.0576 ]\n",
      " [ 0.47953]\n",
      " [ 0.20421]\n",
      " [ 0.67861]\n",
      " [ 7.5435 ]\n",
      " [ 5.3436 ]\n",
      " [ 4.2415 ]\n",
      " [ 6.7981 ]\n",
      " [ 0.92695]\n",
      " [ 0.152  ]\n",
      " [ 2.8214 ]\n",
      " [ 1.8451 ]\n",
      " [ 4.2959 ]\n",
      " [ 7.2029 ]\n",
      " [ 1.9869 ]\n",
      " [ 0.14454]\n",
      " [ 9.0551 ]\n",
      " [ 0.61705]]\n"
     ]
    }
   ],
   "source": [
    "datafile = 'data/ex1data1.txt'\n",
    "cols = np.loadtxt(datafile, delimiter=',', usecols=(\n",
    "    0, 1), unpack=True)  # Read in comma separated data\n",
    "# Form the usual \"X\" matrix and \"y\" vector\n",
    "X = np.transpose(np.array(cols[:-1]))\n",
    "y = np.transpose(np.array(cols[-1:]))\n",
    "print(y)\n",
    "m = y.size  # number of training examples"
   ]
  },
  {
   "cell_type": "markdown",
   "metadata": {},
   "source": [
    "### 1.2 Plotting the Data\n",
    "\n",
    "Before starting on any task, it is often useful to understand the data by visualizing it. For this dataset, you can use a scatter plot to visualize the data, since it has only two properties to plot (profit and population).\n",
    "\n",
    "We focus on the inner workings of machine learning algorithms and therefore you do not need to fill in anything for plotting and model diagnostics. Simply execute the cells with matplotlib code to see what you have achieved so far!"
   ]
  },
  {
   "cell_type": "code",
   "execution_count": 8,
   "metadata": {},
   "outputs": [
    {
     "data": {
      "text/plain": [
       "Text(0.5, 0, 'Population of City in 10,000s')"
      ]
     },
     "execution_count": 8,
     "metadata": {},
     "output_type": "execute_result"
    },
    {
     "data": {
      "image/png": "[encoded data removed]",
      "text/plain": [
       "<Figure size 720x432 with 1 Axes>"
      ]
     },
     "metadata": {
      "needs_background": "light"
     },
     "output_type": "display_data"
    }
   ],
   "source": [
    "# Plot the data to see what it looks like\n",
    "plt.figure(figsize=(10, 6))\n",
    "plt.plot(X[:, 0], y[:, 0], 'b.', markersize=10)\n",
    "plt.grid(True)\n",
    "plt.ylabel('Profit in $10,000s')\n",
    "plt.xlabel('Population of City in 10,000s')"
   ]
  },
  {
   "cell_type": "markdown",
   "metadata": {},
   "source": [
    "### 1.3 Gradient Descent"
   ]
  },
  {
   "cell_type": "markdown",
   "metadata": {},
   "source": [
    "Linear regression assumes that we can predict $y$ using a linear model (using matrix notation):\n",
    "\n",
    "$$ h_{\\theta}(x) = \\theta^Tx $$\n",
    "\n",
    "This is just a much more concise way to write:\n",
    "\n",
    "$$ h_{\\theta}(x) = \\theta_1 x_1 + \\theta_2 x_2 + ... \\theta_n x_n$$\n",
    "\n",
    "---\n",
    "#### Aside: Adding a Column of Ones to $X$ and Expressing the Hypothesis Function in Vector Form How can we write the linear hypothesis in matrix form?\n",
    "\n",
    "(Ask us for help if anything is unclear.)\n",
    "\n",
    "\n",
    "$$ h_{\\theta}(x) = \\theta_0 + \\theta_1 x_1 + \\cdots + \\theta_n x_n. $$\n",
    "\n",
    "Recall that we can compactly write a set of linear equations as a matrix multiplication. For example\n",
    "\\begin{align}\n",
    "    \\begin{bmatrix}\n",
    "        a & b \\\\\n",
    "        c & d\n",
    "    \\end{bmatrix}\n",
    "    \\begin{bmatrix}\n",
    "        e & f \\\\\n",
    "        g & h\n",
    "    \\end{bmatrix} &=\n",
    "    \\begin{bmatrix}\n",
    "        ae + bg & af + bh \\\\\n",
    "        ce + dg & cf + dh\n",
    "    \\end{bmatrix} \\\\\n",
    "    \\begin{bmatrix}\n",
    "        i & j \\\\\n",
    "        k & l\n",
    "    \\end{bmatrix}\n",
    "    \\begin{bmatrix}\n",
    "        m \\\\\n",
    "        n\n",
    "    \\end{bmatrix} &=\n",
    "    \\begin{bmatrix}\n",
    "        im + jn \\\\\n",
    "        km + ln\n",
    "    \\end{bmatrix}\\\\\n",
    "    \\begin{bmatrix}\n",
    "        o & p\n",
    "    \\end{bmatrix}\n",
    "    \\begin{bmatrix}\n",
    "        q \\\\\n",
    "        r\n",
    "    \\end{bmatrix} &=\n",
    "    \\begin{bmatrix}\n",
    "        oq + pr\n",
    "    \\end{bmatrix}\n",
    "\\end{align}\n",
    "\n",
    "With this in mind, we can write the linear hypothesis as following:\n",
    "\\begin{align}\n",
    "    h_{\\theta}(x) = \\theta_0 + \\theta_1 x_1 + \\cdots + \\theta_n x_n =\n",
    "    \\begin{bmatrix}\n",
    "        \\theta_0 & \\theta_1 & \\cdots & \\theta_n\n",
    "    \\end{bmatrix}\n",
    "    \\begin{bmatrix}\n",
    "        1 \\\\\n",
    "        x_1 \\\\\n",
    "        \\vdots \\\\\n",
    "        x_n\n",
    "    \\end{bmatrix} =\n",
    "    \\theta^T x,\n",
    "\\end{align}\n",
    "where we add a one in the $x$ vector which you can think of as the $x_0$ term:\n",
    "\\begin{align}\n",
    "    x = \\begin{bmatrix}\n",
    "        1 \\\\\n",
    "        x_1 \\\\\n",
    "        \\vdots \\\\\n",
    "        x_n\n",
    "    \\end{bmatrix}.\n",
    "\\end{align}\n",
    "\n",
    "Now, the above for a single observation and we have $m$ of those. The convention is to write the matrix of inputs $X$ as a $m \\times (n + 1)$ matrix, where $n + 1$ is the number of variables *plus a constant term*:\n",
    "\\begin{align}\n",
    "    X = \\begin{bmatrix}\n",
    "        1 & x_1^{(1)} & \\cdots & x_n^{(1)} \\\\\n",
    "        1 & x_1^{(2)} & \\cdots & x_n^{(2)} \\\\\n",
    "        \\vdots & \\vdots & \\ddots & \\vdots \\\\\n",
    "        1 & x_1^{(m)} & \\cdots & x_n^{(m)}\n",
    "    \\end{bmatrix}.\n",
    "\\end{align}\n",
    "The first column is a column of ones such that when multiplied with the weights vector, we get the term $\\theta_0$ added for every observation:\n",
    "\\begin{align}\n",
    "    \\begin{bmatrix}\n",
    "        h_{\\theta}(x^{(1)}) \\\\\n",
    "        h_{\\theta}(x^{(2)}) \\\\\n",
    "        \\vdots \\\\\n",
    "        h_{\\theta}(x^{(m)})\n",
    "    \\end{bmatrix} =\n",
    "    \\begin{bmatrix}\n",
    "        \\theta_0 + \\theta_1 x_1^{(1)} + \\cdots + \\theta_n x_n^{(1)} \\\\\n",
    "        \\theta_0 + \\theta_1 x_1^{(2)} + \\cdots + \\theta_n x_n^{(2)} \\\\\n",
    "        \\vdots \\\\\n",
    "        \\theta_0 + \\theta_1 x_1^{(m)} + \\cdots + \\theta_n x_n^{(m)} \\\\\n",
    "    \\end{bmatrix} =\n",
    "    \\begin{bmatrix}\n",
    "        1 & x_1^{(1)} & \\cdots & x_n^{(1)} \\\\\n",
    "        1 & x_1^{(2)} & \\cdots & x_n^{(2)} \\\\\n",
    "        \\vdots & \\vdots & \\ddots & \\vdots \\\\\n",
    "        1 & x_1^{(m)} & \\cdots & x_n^{(m)}\n",
    "    \\end{bmatrix}\n",
    "    \\begin{bmatrix}\n",
    "        \\theta_0 \\\\\n",
    "        \\theta_1 \\\\\n",
    "        \\vdots \\\\\n",
    "        \\theta_n\n",
    "    \\end{bmatrix} =\n",
    "    X\\theta\n",
    "\\end{align}\n",
    "In the case of linear regression with a single variable, $X$ will have $ n + 1 = 2$ columns.\n",
    "\n",
    "For convenience, we will consider $n$ to be the number of columns of $X$ with the ones added."
   ]
  },
  {
   "cell_type": "code",
   "execution_count": 11,
   "metadata": {},
   "outputs": [
    {
     "name": "stdout",
     "output_type": "stream",
     "text": [
      "97 4\n"
     ]
    }
   ],
   "source": [
    "X = np.insert(X, 0, 1, axis=1)\n",
    "m, n = X.shape\n",
    "print(m,n)"
   ]
  },
  {
   "cell_type": "markdown",
   "metadata": {},
   "source": [
    "---\n",
    "\n",
    "The task of training a model is therefore finding parameters $\\theta$ such that $h_{\\theta}(x)$ is as close as possible to true labels $y$. What does it mean for a prediction and a true label to be 'close'? We have to define a cost function that penalises deviations of our predictions from the truth and then proceed to search for parameters that minimize such deivations.\n",
    "\n",
    "Linear regression models are trained using a *mean squared error* cost function:\n",
    "\n",
    "$$ J(\\theta) = \\frac{1}{2m} \\sum_{i = 1}^m \\left(h_{\\theta} (x^{(i)}) - y^{(i)} \\right)^2 $$\n",
    "\n",
    "where $m$ is the total number of examples in the training data.\n",
    "\n",
    "The function above simply says: the cost is equal to the sum of errors for all observations in the training data, where each error is equal to the squared difference between the prediction and the true value of $y$. This function is continuous and yields itself to optimization via gradient-based methods. The mathematically inclined may notice that this is a convex function and hence it is possible to find a global minimum using gradient descent (in fact, linear regression has a closed form solution, but we will focus on gradient descent as a more general method of training ML models).\n"
   ]
  },
  {
   "cell_type": "code",
   "execution_count": 12,
   "metadata": {},
   "outputs": [],
   "source": [
    "iterations = 1500\n",
    "alpha = 0.01"
   ]
  },
  {
   "cell_type": "code",
   "execution_count": null,
   "metadata": {},
   "outputs": [],
   "source": [
    "def h(theta, X):  # Linear hypothesis function\n",
    "    hypothesis = np.matmul(X, theta)# YOUR CODE HERE\n",
    "    return hypothesis\n",
    "\n",
    "\n",
    "def computeCost(theta, X, y):  # Cost function\n",
    "    \"\"\"\n",
    "    theta_start is an n- dimensional vector of initial theta guess\n",
    "    X is matrix with n- columns and m- rows\n",
    "    y is a matrix with m- rows and 1 column\n",
    "    \"\"\"\n",
    "    cost = (1/(2*m)) * np.sum((h(theta,X) - y)**2)# YOUR CODE HERE\n",
    "    return cost\n",
    "\n",
    "#Test that running computeCost with 0's as theta returns 32.07:\n",
    "\n",
    "initial_theta = np.zeros((X.shape[1], 1)) #(theta is a vector with n rows and 1 columns (if X has n features) )\n",
    "print(computeCost(initial_theta, X, y))"
   ]
  },
  {
   "cell_type": "markdown",
   "metadata": {},
   "source": [
    "Gradient descent is an iterative procedure where we update parameters in the direction of steepest descent (i.e. the direction that will reduce the cost function the most). How much we wish to move in that direction is controlled by a step size parameter $\\alpha$ (pronounced $alpha$). Hence, the formula is:\n",
    "\n",
    "$$ \\theta_{t+1} = \\theta_t - \\alpha  \\frac{dJ}{d\\theta} $$\n",
    "\n",
    "The gradient for the cost function can be obtained by differentiating $J$ and is equal to:\n",
    "\n",
    "$$ \\frac{dJ}{d\\theta_k} = \\frac{1}{m}\\sum_{i = 1}^m x_k^{(i)}\\left(h_{\\theta}(x^{(i)}) - y^{(i)}\\right) $$\n",
    "\n",
    "In pseudocode, we can therefore write the gradient descent algorithm as following:\n",
    "\n",
    "1. for t iterations do:\n",
    "    $$(\\theta_k)_t = (\\theta_k)_{t-1} - \\alpha  \\frac{1}{m}\\sum_{i = 1}^m x_k^{(i)}\\left(h_{\\theta}(x^{(i)}) - y^{(i)}\\right) $$\n",
    "5. end"
   ]
  },
  {
   "cell_type": "code",
   "execution_count": null,
   "metadata": {
    "collapsed": true
   },
   "outputs": [],
   "source": [
    "#Actual gradient descent minimizing routine\n",
    "def descendGradient(X, y, theta_start=np.zeros(2)):\n",
    "    \"\"\"\n",
    "    theta_start is an n- dimensional vector of initial theta guess\n",
    "    X is matrix with n- columns and m- rows\n",
    "    \"\"\"\n",
    "    theta = theta_start\n",
    "    \n",
    "    # Store costs over GD iterations to plot them later!\n",
    "    cost_history = []  \n",
    "    \n",
    "    # Store parameters over GD iterations to visualize how they change later\n",
    "    theta_history = []\n",
    "    for _ in range(iterations):\n",
    "        theta_new = theta\n",
    "        cost_history.append(computeCost(theta, X, y))\n",
    "\n",
    "        theta_history.append(list(theta[:, 0]))\n",
    "\n",
    "        for j in range(len(theta_new)):\n",
    "            X_j = np.array(X[:, j]).reshape(m, 1)\n",
    "            theta_new[j] = theta_new[j]- alpha * (1/m) * np.sum(X_j * (h(theta, X)-y)) # YOUR CODE HERE\n",
    "        theta = theta_new\n",
    "    return theta, theta_history, cost_history"
   ]
  },
  {
   "cell_type": "code",
   "execution_count": null,
   "metadata": {
    "scrolled": false
   },
   "outputs": [],
   "source": [
    "# Actually run gradient descent to get the best-fit theta values\n",
    "initial_theta = np.zeros((X.shape[1], 1))\n",
    "theta, theta_history, cost_history = descendGradient(X, y, initial_theta)\n",
    "\n",
    "# Plot the convergence of the cost function\n",
    "def plotConvergence(cost_history):\n",
    "    plt.figure(figsize=(10, 6))\n",
    "    plt.plot(range(len(cost_history)), cost_history, 'bo')\n",
    "    plt.grid(True)\n",
    "    plt.title(\"Convergence of Cost Function\")\n",
    "    plt.xlabel(\"Iteration number\")\n",
    "    plt.ylabel(\"Cost function\")\n",
    "    plt.xlim([-0.05 * iterations, 1.05 * iterations])\n",
    "\n",
    "plotConvergence(cost_history)\n",
    "#plt.ylim([4, 7])"
   ]
  },
  {
   "cell_type": "markdown",
   "metadata": {},
   "source": [
    "Looks like at every iteration we are improving our model! That is because the cost function $J$ defined above is strictly convex and with a unique global minimum. Consequently, every iteration, provided our step size $a$ is not too large, will lead to a decrease in the cost as we improve our parameters (weights). \n",
    "\n",
    "As an aside, many ML models that you may encounter in the future do not have convex cost functions with a unique global minimum, so in general you should not expect to see the same plot as above in all circumstances."
   ]
  },
  {
   "cell_type": "code",
   "execution_count": null,
   "metadata": {},
   "outputs": [],
   "source": [
    "#Plot the line on top of the data to ensure it looks correct\n",
    "def fit(xval):\n",
    "    global theta # use the parameters you trained before\n",
    "    prediction = h(theta, X) # YOUR CODE HERE\n",
    "    return prediction\n",
    "    \n",
    "\n",
    "\n",
    "plt.figure(figsize=(10, 6))\n",
    "plt.plot(X[:, 1], y[:, 0], 'rx', markersize=10, label='Training Data')\n",
    "plt.plot(X[:, 1], fit(X[:, 1]), 'b-',\n",
    "         label='Hypothesis: h(x) = %0.2f + %0.2fx' % (theta[0], theta[1]))\n",
    "plt.grid(True)  # Always plot.grid true!\n",
    "plt.ylabel('Profit in $10,000s')\n",
    "plt.xlabel('Population of City in 10,000s')\n",
    "plt.legend()"
   ]
  },
  {
   "cell_type": "markdown",
   "metadata": {},
   "source": [
    "#### 2.5 Visualizing _J($\\theta$)_"
   ]
  },
  {
   "cell_type": "markdown",
   "metadata": {},
   "source": [
    "As you perform gradient descent to learn minimize the cost function $J(\\theta)$,\n",
    "it is helpful to monitor the convergence by computing the cost. In this\n",
    "section, you will implement a function to calculate $J(\\theta)$ so you can check the\n",
    "convergence of your gradient descent implementation.\n",
    "\n",
    "To understand the cost function $J(\\theta)$ better, you will now plot the cost over\n",
    "a 2-dimensional grid of $\\theta_0$ and $\\theta_1$ values. "
   ]
  },
  {
   "cell_type": "code",
   "execution_count": null,
   "metadata": {
    "collapsed": true,
    "scrolled": false
   },
   "outputs": [],
   "source": [
    "#Import necessary matplotlib tools for 3d plots\n",
    "from mpl_toolkits.mplot3d import axes3d, Axes3D\n",
    "from matplotlib import cm\n",
    "import itertools\n",
    "\n",
    "fig = plt.figure(figsize=(12, 12))\n",
    "ax = fig.gca(projection='3d')\n",
    "\n",
    "xvals = np.arange(-10, 10, .5)\n",
    "yvals = np.arange(-1, 4, .1)\n",
    "myxs, myys, myzs = [], [], []\n",
    "for i in xvals:\n",
    "    for j in yvals:\n",
    "        myxs.append(i)\n",
    "        myys.append(j)\n",
    "        myzs.append(computeCost(np.array([[i], [j]]), X, y))\n",
    "\n",
    "scat = ax.scatter(myxs, myys, myzs, c=np.abs(myzs),\n",
    "                  cmap=plt.get_cmap('YlOrRd'))\n",
    "\n",
    "plt.xlabel(r'$\\theta_0$', fontsize=30)\n",
    "plt.ylabel(r'$\\theta_1$', fontsize=30)\n",
    "plt.title('Cost (Minimization Path Shown in Blue)', fontsize=30)\n",
    "plt.plot([x[0] for x in theta_history], [x[1]\n",
    "                                        for x in theta_history], cost_history, 'bo-')\n",
    "plt.show()"
   ]
  },
  {
   "cell_type": "markdown",
   "metadata": {},
   "source": [
    "### 3. EXTRA: Linear Regression with multiple variables"
   ]
  },
  {
   "cell_type": "markdown",
   "metadata": {},
   "source": [
    "Linear regression with multiple variables is a straightforward extension of everything we have done up until now.\n",
    "\n",
    "The target now becomes a linear function of several variables, each of which will need to be updated by gradient descent -- but in the same manner as for a single variable regression.\n",
    "\n",
    "$$ h_{\\theta}(x) = \\theta_0 + \\theta_1 x_1 + \\cdots + \\theta_n x_n $$"
   ]
  },
  {
   "cell_type": "markdown",
   "metadata": {},
   "source": [
    "In this part, you will implement linear regression with multiple variables to\n",
    "predict the prices of houses. Suppose you are selling your house and you\n",
    "want to know what a good market price would be. One way to do this is to\n",
    "first collect information on recent houses sold and make a model of housing\n",
    "prices.\n",
    "\n",
    "\n",
    "The file ex1data2.txt contains a training set of housing prices in Portland,\n",
    "Oregon. The first column is the size of the house (in square feet), the\n",
    "second column is the number of bedrooms, and the third column is the price\n",
    "of the house."
   ]
  },
  {
   "cell_type": "code",
   "execution_count": null,
   "metadata": {
    "collapsed": true
   },
   "outputs": [],
   "source": [
    "datafile = 'data/ex1data2.txt'\n",
    "# Read into the data file\n",
    "cols = np.loadtxt(datafile, delimiter=',', usecols=(0, 1, 2),\n",
    "                  unpack=True)  # Read in comma separated data\n",
    "\n",
    "# Form the usual \"X\" matrix and \"y\" vector\n",
    "X = np.transpose(np.array(cols[:-1]))\n",
    "y = np.transpose(np.array(cols[-1:]))\n",
    "m = y.size  # number of training examples\n",
    "\n",
    "# Insert the usual column of 1's into the \"X\" matrix\n",
    "X = # YOUR CODE HERE"
   ]
  },
  {
   "cell_type": "code",
   "execution_count": null,
   "metadata": {
    "collapsed": true
   },
   "outputs": [],
   "source": [
    "# Quick visualize data\n",
    "plt.grid(True)\n",
    "plt.xlim([-100, 5000])\n",
    "plt.hist(X[:, 0], label='col1')\n",
    "plt.hist(X[:, 1], label='col2')\n",
    "plt.hist(X[:, 2], label='col3')\n",
    "plt.title('Clearly we need feature normalization.')\n",
    "plt.xlabel('Column Value')\n",
    "plt.ylabel('Counts')\n",
    "plt.legend()"
   ]
  },
  {
   "cell_type": "markdown",
   "metadata": {},
   "source": [
    "By looking at the values, note that house sizes are about\n",
    "1000 times the number of bedrooms. When features differ by orders of magnitude,\n",
    "first performing feature scaling can make gradient descent converge\n",
    "much more quickly.\n",
    "\n",
    "There are various ways to normalize features. In this session, we will cover mean-variance normalization: we scale each variable such that it has mean 0 and variance 1.\n",
    "\n",
    "$$ x_j = \\frac{x_j - \\mu_j}{\\sigma_j} $$"
   ]
  },
  {
   "cell_type": "code",
   "execution_count": null,
   "metadata": {
    "collapsed": true
   },
   "outputs": [],
   "source": [
    "#Feature normalizing the columns (subtract mean, divide by standard deviation)\n",
    "#Store the mean and std for later use\n",
    "#Note don't modify the original X matrix, use a copy\n",
    "stored_feature_means, stored_feature_stds = [], []\n",
    "Xnorm = X.copy()\n",
    "\n",
    "for icol in range(Xnorm.shape[1]):\n",
    "    stored_feature_means.append(np.mean(Xnorm[:, icol]))\n",
    "    stored_feature_stds.append(np.std(Xnorm[:, icol]))\n",
    "    # Skip the first column\n",
    "    if not icol:\n",
    "        continue\n",
    "    # Faster to not recompute the mean and std again, just used stored values\n",
    "    Xnorm[:, icol] = # YOUR CODE HERE"
   ]
  },
  {
   "cell_type": "code",
   "execution_count": null,
   "metadata": {
    "collapsed": true
   },
   "outputs": [],
   "source": [
    "#Quick visualize the feature-normalized data\n",
    "plt.grid(True)\n",
    "plt.xlim([-5, 5])\n",
    "plt.hist(Xnorm[:, 0], label='col1')\n",
    "plt.hist(Xnorm[:, 1], label='col2')\n",
    "plt.hist(Xnorm[:, 2], label='col3')\n",
    "plt.title('Feature Normalization Accomplished')\n",
    "plt.xlabel('Column Value')\n",
    "plt.ylabel('Counts')\n",
    "plt.legend()"
   ]
  },
  {
   "cell_type": "markdown",
   "metadata": {},
   "source": [
    "Previously, you implemented gradient descent on a univariate regression\n",
    "problem. The only difference now is that there is one more feature in the\n",
    "matrix X. The hypothesis function and the batch gradient descent update\n",
    "rule remain unchanged."
   ]
  },
  {
   "cell_type": "code",
   "execution_count": null,
   "metadata": {
    "collapsed": true,
    "scrolled": false
   },
   "outputs": [],
   "source": [
    "#Run gradient descent with multiple variables, initial theta still set to zeros\n",
    "#(Note! This doesn't work unless we feature normalize! \"overflow encountered in multiply\")\n",
    "initial_theta = np.zeros((Xnorm.shape[1], 1))\n",
    "theta, theta_history, cost_history = descendGradient(Xnorm, y, initial_theta)\n",
    "\n",
    "#Plot convergence of cost function:\n",
    "plotConvergence(cost_history)"
   ]
  },
  {
   "cell_type": "markdown",
   "metadata": {},
   "source": [
    "When training Machine Learning models, **it is essential to have a test set that the model does not see in the training process**. That is because we cannot assess model performance from the data that was used to train it -- any such assessment would be misleadingly optimistic, i.e. the model would appear more accurate that it actually would be when the time arrives to predict on unseen data!\n",
    "\n",
    "We say that only unseen, or *test data*, can provide an unbiased model performance metric, such as accuracy."
   ]
  },
  {
   "cell_type": "markdown",
   "metadata": {},
   "source": [
    "When normalizing the features, it is important\n",
    "to store the values used for normalization - the mean value and the standard\n",
    "deviation used for the computations. After learning the parameters\n",
    "from the model, we often want to predict the prices of houses we have not\n",
    "seen before (i.e. the test data). Given a new x value (living room area and number of bedrooms),\n",
    "we must first normalize x using the mean and standard deviation\n",
    "*that we had previously computed from the training set*."
   ]
  },
  {
   "cell_type": "code",
   "execution_count": null,
   "metadata": {
    "collapsed": true
   },
   "outputs": [],
   "source": [
    "#print(\"Final result theta parameters: \\n\",theta)\n",
    "print(\"Check of result: What is price of house with 1650 square feet and 3 bedrooms?\")\n",
    "ytest = np.array([1650., 3.])\n",
    "\n",
    "\n",
    "# To \"undo\" feature normalization, we \"undo\" 1650 and 3, then plug it into our hypothesis\n",
    "ytest_scaled = [(ytest[x] - stored_feature_means[x + 1]) /\n",
    "               stored_feature_stds[x + 1] for x in range(len(ytest))]\n",
    "ytest_scaled.insert(0, 1)\n",
    "print(\"$%0.2f\" % float(h(theta, ytest_scaled)))"
   ]
  },
  {
   "cell_type": "markdown",
   "metadata": {},
   "source": [
    "## Extra: Normal equations\n"
   ]
  },
  {
   "cell_type": "markdown",
   "metadata": {},
   "source": [
    "As mentioned above, linear regression is one of the few ML models whose parameters can be solved for exactly, meaning that we can avoid an iterative procedure such as gradient descent. Formally, we say that a linear regression has a closed-form solution.\n",
    "\n",
    "Let's return to matrix notation. We shall use matrix differentiation but do not worry if you do not understand some of the below - this is simply bonus material and can be equivalently derived without linear algebra.\n",
    "\n",
    "$$ H =\n",
    "    \\begin{bmatrix}\n",
    "        h_{\\theta}(x^{(1)}) \\\\\n",
    "        h_{\\theta}(x^{(2)}) \\\\\n",
    "        \\vdots \\\\\n",
    "        h_{\\theta}(x^{(m)})\n",
    "    \\end{bmatrix} = X\\theta $$\n",
    "\n",
    "$$ J(\\theta) = \\frac{1}{2m}(y - X\\theta)^T(y - X\\theta) $$\n",
    "\n",
    "$$ \\frac{dJ}{d\\theta} = \\frac{1}{m}(X^Ty -  X^TX\\theta) $$\n",
    "\n",
    "A global minimum for a convex function is a solution to $\\frac{dJ}{d\\theta} = 0$ or: \n",
    "\n",
    "$$ X^Ty - X^TX\\theta = 0 $$\n",
    "\n",
    "$$ \\theta = (X^TX)^{-1}X^Ty $$"
   ]
  },
  {
   "cell_type": "code",
   "execution_count": null,
   "metadata": {
    "collapsed": true
   },
   "outputs": [],
   "source": [
    "from numpy.linalg import inv\n",
    "# Implementation of normal equation to find analytic solution to linear regression\n",
    "\n",
    "def normEqtn(X, y):\n",
    "    theta = # YOUR CODE HERE\n",
    "    return theta"
   ]
  },
  {
   "cell_type": "code",
   "execution_count": null,
   "metadata": {
    "collapsed": true
   },
   "outputs": [],
   "source": [
    "print(\"Normal equation prediction for price of house with 1650 square feet and 3 bedrooms\")\n",
    "print(\"$%0.2f\" % float(h(normEqtn(X, y), [1, 1650., 3])))"
   ]
  },
  {
   "cell_type": "code",
   "execution_count": null,
   "metadata": {
    "collapsed": true
   },
   "outputs": [],
   "source": []
  }
 ],
 "metadata": {
  "kernelspec": {
   "display_name": "Python 3",
   "language": "python",
   "name": "python3"
  },
  "language_info": {
   "codemirror_mode": {
    "name": "ipython",
    "version": 3
   },
   "file_extension": ".py",
   "mimetype": "text/x-python",
   "name": "python",
   "nbconvert_exporter": "python",
   "pygments_lexer": "ipython3",
   "version": "3.7.3"
  }
 },
 "nbformat": 4,
 "nbformat_minor": 1
}
