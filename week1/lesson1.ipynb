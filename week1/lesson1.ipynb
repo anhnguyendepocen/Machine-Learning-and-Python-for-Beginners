{
 "cells": [
  {
   "cell_type": "markdown",
   "metadata": {},
   "source": [
    "# Lesson 1: Running simple Python syntax in Jupyter Notebook\n",
    "\n",
    "To execute a command check to make sure that the cell is a code cell, i.e does it have `In [ <some number> ]:` at the start of it?\n",
    "If so, then it is a code cell and that means you can run `python` code within the given cell.\n",
    "\n",
    "To change the cell type to a code cell, click on the given cell and hold `esc + y` together. To change it to a *Markdown*, `text` cell, hold together `esc + m`. \n",
    "Markdown is just a type of formatting syntax, think of it like Microsoft word. \n",
    "If you double click on this cell, then you will see the `raw syntax`, which will enable you to see aspects of the Markdown syntax. \n",
    "\n",
    "To evaluate a cell, i.e to process the cells contents we press `shift + enter`. Double click on this cell and then try hitting `shift + enter`. \n",
    "\n",
    "If you want to move to the next line within the cell just hit `enter`."
   ]
  },
  {
   "cell_type": "markdown",
   "metadata": {},
   "source": [
    "## Our first program: Printing things"
   ]
  },
  {
   "cell_type": "code",
   "execution_count": 4,
   "metadata": {},
   "outputs": [
    {
     "name": "stdout",
     "output_type": "stream",
     "text": [
      "Hello world\n"
     ]
    }
   ],
   "source": [
    "print('Hello world')"
   ]
  },
  {
   "cell_type": "markdown",
   "metadata": {},
   "source": [
    "## Our second program: Adding numbers"
   ]
  },
  {
   "cell_type": "code",
   "execution_count": 5,
   "metadata": {},
   "outputs": [
    {
     "name": "stdout",
     "output_type": "stream",
     "text": [
      "5\n"
     ]
    }
   ],
   "source": [
    "x  = 1\n",
    "y = 4\n",
    "print(x + y)"
   ]
  },
  {
   "cell_type": "code",
   "execution_count": 6,
   "metadata": {},
   "outputs": [
    {
     "data": {
      "text/plain": [
       "8"
      ]
     },
     "execution_count": 6,
     "metadata": {},
     "output_type": "execute_result"
    }
   ],
   "source": [
    "x + y +3"
   ]
  },
  {
   "cell_type": "markdown",
   "metadata": {},
   "source": [
    "## More Markdown commands ##\n",
    "\n",
    "Within Markdown we can write LaTeX syntax \n",
    "$$ x + y = 5 $$\n",
    "\n",
    "and can output formatted code in several different languages, heres is an example of some `P\n",
    "```python \n",
    "x + y = 5\n",
    "print(x+y)\n",
    "```"
   ]
  },
  {
   "cell_type": "code",
   "execution_count": null,
   "metadata": {},
   "outputs": [],
   "source": []
  }
 ],
 "metadata": {
  "kernelspec": {
   "display_name": "Python 3",
   "language": "python",
   "name": "python3"
  },
  "language_info": {
   "codemirror_mode": {
    "name": "ipython",
    "version": 3
   },
   "file_extension": ".py",
   "mimetype": "text/x-python",
   "name": "python",
   "nbconvert_exporter": "python",
   "pygments_lexer": "ipython3",
   "version": "3.7.3"
  }
 },
 "nbformat": 4,
 "nbformat_minor": 2
}
